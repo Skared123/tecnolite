{
 "cells": [
  {
   "cell_type": "code",
   "execution_count": null,
   "id": "54eef2c8-cf6d-44ba-8c4b-6ad4372fc520",
   "metadata": {},
   "outputs": [],
   "source": [
    "#Nota: Este libro se ejecuta cada 24 horas, a las 12 am, para actualizar los precios en Firestore. \n",
    "#Este cron esta programado con Papermill: https://filipstollar.medium.com/how-to-schedule-a-jupyter-notebook-to-run-every-day-week-or-month-ae3f992f3afc\n",
    "#Cron generator: https://crontab-generator.org/"
   ]
  },
  {
   "cell_type": "code",
   "execution_count": null,
   "id": "890d6ba0-fdc4-4573-8e07-c073a88524ec",
   "metadata": {
    "tags": [
     "#kernel"
    ]
   },
   "outputs": [],
   "source": [
    "#import os\n",
    "#os._exit(00)"
   ]
  },
  {
   "cell_type": "code",
   "execution_count": null,
   "id": "674f1456-363a-423c-8a3a-43dd9a5c54e3",
   "metadata": {
    "tags": [
     "#A",
     "=>kernel"
    ]
   },
   "outputs": [],
   "source": [
    "#Se inician Librerias\n",
    "from urllib.request import Request, urlopen\n",
    "import json\n",
    "import copy\n",
    "import csv\n",
    "import datetime"
   ]
  },
  {
   "cell_type": "markdown",
   "id": "549a0ef0-7f18-4984-b5f9-49a692fb947c",
   "metadata": {},
   "source": [
    "#### ApiKey de Tecnolite para servicios "
   ]
  },
  {
   "cell_type": "code",
   "execution_count": null,
   "id": "40ed4368-5966-456f-8f57-09474ebc92da",
   "metadata": {
    "tags": [
     "#B",
     "=>kernel"
    ]
   },
   "outputs": [],
   "source": [
    "#ApiKey de Tecnolite\n",
    "apiKey = 'povnHJRYuDufMP5i1vJnYNREAShWXgeS'"
   ]
  },
  {
   "cell_type": "markdown",
   "id": "fded7a59-72a1-493d-9fc8-1f0d923ae2a2",
   "metadata": {},
   "source": [
    "#### Se inicia Firestore"
   ]
  },
  {
   "cell_type": "code",
   "execution_count": null,
   "id": "5801ff8a-9ce2-4068-a6e5-b51fe355eff0",
   "metadata": {
    "tags": [
     "#C",
     "=>kernel"
    ]
   },
   "outputs": [],
   "source": [
    "#Inicia variables de firebase\n",
    "import firebase_admin\n",
    "from firebase_admin import credentials\n",
    "from firebase_admin import firestore\n",
    "\n",
    "# Use a service account Voltz DEV\n",
    "#cred = credentials.Certificate('secrets/clave-servicio-voltz-dev.json')\n",
    "\n",
    "# Use a service account Voltz Pro\n",
    "cred = credentials.Certificate('secrets/voltz-pro-key.json')\n",
    "\n",
    "app = firebase_admin.initialize_app(cred)\n",
    "\n",
    "db = firestore.client()\n",
    "print('ejecutado')"
   ]
  },
  {
   "cell_type": "markdown",
   "id": "84bcff69-e78e-4fad-a6f8-ebfe87a1e1dd",
   "metadata": {},
   "source": [
    "### Se consulta la lista de codigos de productos en Firestore y se crea la lista de acuerdo a requerimiento de Tecnolite para el servicio"
   ]
  },
  {
   "cell_type": "code",
   "execution_count": null,
   "id": "8647bfbb-8b8b-4bad-bcb1-fb8f485956ef",
   "metadata": {
    "tags": [
     "#D",
     "=>C",
     "=>kernel"
    ]
   },
   "outputs": [],
   "source": [
    "#Consulta la bd\n",
    "docs = db.collection(u'products').where(u'source', u'==', 'tecnolite_api').select(field_paths=['sku', 'catalog_code']).stream()\n",
    "skus = [] \n",
    "products = []\n",
    "for doc in docs:\n",
    "    skus.append({'MATERIAL' : doc.to_dict()['sku']})\n",
    "    products.append(doc.to_dict())\n",
    "\n",
    "print(skus[:3])"
   ]
  },
  {
   "cell_type": "markdown",
   "id": "cdd17818-d1f4-4a85-8213-5baf7b60da35",
   "metadata": {},
   "source": [
    "###  Se consulta el servicio de Tecnolite con la lista de codigos a consultar"
   ]
  },
  {
   "cell_type": "code",
   "execution_count": 1,
   "id": "1fbea156-ad60-48eb-8604-bdcdb055f7c7",
   "metadata": {
    "tags": [
     "#E",
     "=>D",
     "=>kernel"
    ]
   },
   "outputs": [
    {
     "ename": "NameError",
     "evalue": "name 'skus' is not defined",
     "output_type": "error",
     "traceback": [
      "\u001b[1;31m---------------------------------------------------------------------------\u001b[0m",
      "\u001b[1;31mNameError\u001b[0m                                 Traceback (most recent call last)",
      "\u001b[1;32mc:\\Users\\Ray\\Desktop\\tecnolite\\tecnolite_prices.ipynb Cell 11\u001b[0m line \u001b[0;36m2\n\u001b[0;32m      <a href='vscode-notebook-cell:/c%3A/Users/Ray/Desktop/tecnolite/tecnolite_prices.ipynb#X13sZmlsZQ%3D%3D?line=0'>1</a>\u001b[0m \u001b[39m#consulta el servicio de tecnolite de precios con los codigos del catalogo de firestore\u001b[39;00m\n\u001b[1;32m----> <a href='vscode-notebook-cell:/c%3A/Users/Ray/Desktop/tecnolite/tecnolite_prices.ipynb#X13sZmlsZQ%3D%3D?line=1'>2</a>\u001b[0m body \u001b[39m=\u001b[39m {\u001b[39m\"\u001b[39m\u001b[39mZB2C_PRECIO_STOCK\u001b[39m\u001b[39m\"\u001b[39m: {\u001b[39m\"\u001b[39m\u001b[39mCLIENTE\u001b[39m\u001b[39m\"\u001b[39m: \u001b[39m\"\u001b[39m\u001b[39m12696\u001b[39m\u001b[39m\"\u001b[39m},\u001b[39m\"\u001b[39m\u001b[39mMATERIALES\u001b[39m\u001b[39m\"\u001b[39m: skus}\n\u001b[0;32m      <a href='vscode-notebook-cell:/c%3A/Users/Ray/Desktop/tecnolite/tecnolite_prices.ipynb#X13sZmlsZQ%3D%3D?line=2'>3</a>\u001b[0m req \u001b[39m=\u001b[39m Request(\u001b[39m'\u001b[39m\u001b[39mhttps://tecnolite-preprod.apimanagement.us3.hana.ondemand.com/pro/v1/tecnoliteb2c/products/precio_stock\u001b[39m\u001b[39m'\u001b[39m)\n\u001b[0;32m      <a href='vscode-notebook-cell:/c%3A/Users/Ray/Desktop/tecnolite/tecnolite_prices.ipynb#X13sZmlsZQ%3D%3D?line=3'>4</a>\u001b[0m req\u001b[39m.\u001b[39madd_header(\u001b[39m'\u001b[39m\u001b[39mApiKey\u001b[39m\u001b[39m'\u001b[39m, apiKey)\n",
      "\u001b[1;31mNameError\u001b[0m: name 'skus' is not defined"
     ]
    }
   ],
   "source": [
    "#consulta el servicio de tecnolite de precios con los codigos del catalogo de firestore\n",
    "body = {\"ZB2C_PRECIO_STOCK\": {\"CLIENTE\": \"12696\"},\"MATERIALES\": skus}\n",
    "req = Request('https://tecnolite-preprod.apimanagement.us3.hana.ondemand.com/pro/v1/tecnoliteb2c/products/precio_stock')\n",
    "req.add_header('ApiKey', apiKey)\n",
    "req.add_header('content-type', 'application/json')\n",
    "jsondata = json.dumps(body)\n",
    "jsondataasbytes = jsondata.encode('utf-8')   # needs to be bytes\n",
    "req.add_header('Content-Length', len(jsondataasbytes))\n",
    "print(\"Content-Length:\", len(jsondataasbytes))\n",
    "#response = urlopen(req, jsondataasbytes)\n",
    "#print(response)\n",
    "content = urlopen(req, jsondataasbytes).read()\n",
    "json_prices = json.loads(content.decode('utf-8'))\n",
    "print(json_prices['ZB2C_PRECIO_STOCK.Response']['LISTA_MATERIALES']['item'])\n",
    "print('Ejecutado.')"
   ]
  },
  {
   "cell_type": "markdown",
   "id": "8dc09494-98db-47ec-b04a-27f1a42aa1bb",
   "metadata": {},
   "source": [
    "### Se actualiza los precios en Firestore"
   ]
  },
  {
   "cell_type": "code",
   "execution_count": null,
   "id": "c6747597-9799-48be-a204-eab1f79e92d1",
   "metadata": {
    "tags": [
     "#F",
     "=>E",
     "=>kernel"
    ]
   },
   "outputs": [],
   "source": [
    "data = json_prices['ZB2C_PRECIO_STOCK.Response']['LISTA_MATERIALES']['item']\n",
    "skus = []\n",
    "for product in products:\n",
    "    for element in data: \n",
    "        if product['sku'] == element['MATERIAL']:\n",
    "            skus.append({'catalog_code': product['catalog_code'], 'price': element})\n",
    "            break\n",
    "\n",
    "batch = db.batch()\n",
    "batch2 = db.batch()\n",
    "batch3 = db.batch()\n",
    "print (data[:2])\n",
    "i = 0\n",
    "t = 0\n",
    "print('total registros a guardar: ', len(data))\n",
    "for obj in skus:\n",
    "        element = obj['price']\n",
    "        sku_price = {\n",
    "            'suppliers.S2.supplier_code': 'S2', \n",
    "            'suppliers.S2.updated_at': datetime.datetime.now(tz=datetime.timezone.utc), \n",
    "            'suppliers.S2.supplier_name': 'Tecnolite', \n",
    "            'suppliers.S2.arrive_date': None if(element['FECHA_LLEGADA'] == '0000-00-00') else datetime.datetime.strptime(element['FECHA_LLEGADA'], '%Y-%m-%d'),\n",
    "            'suppliers.S2.stock_transit': float(element['STOCK_TRANSITO']),\n",
    "            'suppliers.S2.stock': float(element['STOCK_DISPONIBLE']),\n",
    "            'suppliers.S2.price_best': float(element['PRECIO_NETO']),\n",
    "            'suppliers.S2.currency': (element['MONEDA'])\n",
    "        }\n",
    "        sku_price2 = {\n",
    "            'product_id': obj['catalog_code'] + '_' + element['MATERIAL'].replace('/', '_'),\n",
    "            'source': 'tecnolite_api',\n",
    "            'sku': element['MATERIAL'],\n",
    "            'supplier_code': 'S2', \n",
    "            'updated_at': datetime.datetime.now(tz=datetime.timezone.utc), \n",
    "            'supplier_name': 'Tecnolite', \n",
    "            'arrive_date': None if(element['FECHA_LLEGADA'] == '0000-00-00') else datetime.datetime.strptime(element['FECHA_LLEGADA'], '%Y-%m-%d'),\n",
    "            'stock_transit': float(element['STOCK_TRANSITO']),\n",
    "            'stock': float(element['STOCK_DISPONIBLE']),\n",
    "            'price_best': float(element['PRECIO_NETO']),\n",
    "            'currency': (element['MONEDA']),\n",
    "            'price_margin': 0.25,\n",
    "        }\n",
    "        if float(element['STOCK_DISPONIBLE']) > 0:\n",
    "            sku_price['status'] = 'Disponible'\n",
    "        else:\n",
    "            sku_price['status'] = 'No Disponible'\n",
    "        ref = db.collection(u'products').document(obj['catalog_code'] + '_' + element['MATERIAL'].replace('/', '_'))\n",
    "        batch.update(ref, sku_price)\n",
    "        ref2 = db.collection(u'products').document(obj['catalog_code'] + '_' + element['MATERIAL'].replace('/', '_')).collection(u'suppliers').document('S2')\n",
    "        batch2.set(ref2, sku_price2)\n",
    "        ref3 = db.collection(u'products').document(obj['catalog_code'] + '_' + element['MATERIAL'].replace('/', '_')).collection(u'history').document()\n",
    "        batch3.set(ref3, sku_price2)\n",
    "        t += 1\n",
    "        if i == 100 or len(data) == t:\n",
    "            batch.commit()\n",
    "            batch2.commit()\n",
    "            batch3.commit()\n",
    "            i = 0\n",
    "            batch = db.batch()\n",
    "            batch2 = db.batch()\n",
    "            batch3 = db.batch()\n",
    "            print('guardados: ' + str(t) + ' de ' + str(len(data)))\n",
    "        else: \n",
    "            i += 1\n",
    "        \n",
    "print('total de registros guardados', t)"
   ]
  },
  {
   "cell_type": "markdown",
   "id": "f17e298f-601d-4b57-a69b-65aead3ee93e",
   "metadata": {},
   "source": [
    "### Revisa productos descontinuados y los pone en stock 0 si ningun otro proveedor tiene stock"
   ]
  },
  {
   "cell_type": "code",
   "execution_count": null,
   "id": "2f635213-cda0-43e7-9b2d-91d8a992f801",
   "metadata": {
    "tags": []
   },
   "outputs": [],
   "source": [
    "def update_products_without_stock(db, data):\n",
    "    # Get the products from Firestore where source is 'tecnolite_api'\n",
    "    products_ref = db.collection(u'products')\n",
    "    queried_products = products_ref.where(u'source', u'==', 'tecnolite_api').get()\n",
    "    \n",
    "    # Convert the data to a set of skus for easier comparison\n",
    "    local_skus = set(element['MATERIAL'] for element in data)  # Corrected this line\n",
    "\n",
    "    # Create a batch for updating\n",
    "    batch = db.batch()\n",
    "\n",
    "    # Progress indicators\n",
    "    total_products = len(queried_products)\n",
    "    processed_products = 0\n",
    "    updated_to_no_disponible = 0  # Counter for products updated to 'No Disponible'\n",
    "    print(f'Starting to process {total_products} products')\n",
    "\n",
    "    # Iterate through the products from Firestore\n",
    "    for product_snapshot in queried_products:\n",
    "        product = product_snapshot.to_dict()\n",
    "        product_sku = product.get('sku')\n",
    "\n",
    "        # Check if the product is in local data\n",
    "        if product_sku not in local_skus:\n",
    "            # Fetch S2 and S3 stock from subcollections\n",
    "            s2_doc = product_snapshot.reference.collection(u'suppliers').document(u'S2').get().to_dict() or {}\n",
    "            s3_doc = product_snapshot.reference.collection(u'suppliers').document(u'S3').get().to_dict() or {}\n",
    "\n",
    "            s2_stock = s2_doc.get('stock', 0)\n",
    "            s3_stock = s3_doc.get('stock', 0)\n",
    "\n",
    "            # Check if stock in S2 and S3 is zero\n",
    "            if s2_stock == 0 and s3_stock == 0:\n",
    "                # Perform updates on the product\n",
    "                update_data = {\n",
    "                    'best_supplier.stock': 0,\n",
    "                    'status': 'No Disponible',\n",
    "                    'updated_at': firestore.SERVER_TIMESTAMP  # Add the server timestamp\n",
    "                }\n",
    "                # Add the changes to the batch\n",
    "                batch.update(product_snapshot.reference, update_data)\n",
    "                updated_to_no_disponible += 1  # Increment the counter\n",
    "\n",
    "        # Update progress indicators\n",
    "        processed_products += 1\n",
    "        print(f'Processed {processed_products} of {total_products} products')\n",
    "\n",
    "    # Commit the batch\n",
    "    batch.commit()\n",
    "    print('Batch update committed')\n",
    "    print(f'Total products updated to \"No Disponible\": {updated_to_no_disponible}')  # Print the counter\n",
    "\n",
    "# Call the update_products_without_stock method\n",
    "update_products_without_stock(db, data)\n"
   ]
  },
  {
   "cell_type": "markdown",
   "id": "a25e47cf-893a-4827-8e99-0214251a6ea3",
   "metadata": {},
   "source": [
    "### Auditoria de productos que tienen productos con provejal S3 y estan marcados como No Disponible"
   ]
  },
  {
   "cell_type": "code",
   "execution_count": null,
   "id": "3b133399-0d91-40c2-9690-e348be3d3712",
   "metadata": {
    "tags": []
   },
   "outputs": [],
   "source": [
    "def report_products_with_stock(db):\n",
    "    # Get the products from Firestore where source is 'tecnolite_api'\n",
    "    products_ref = db.collection(u'products')\n",
    "    queried_products = products_ref.where(u'source', u'==', 'tecnolite_api').get()\n",
    "    \n",
    "    # Progress indicators\n",
    "    total_products = len(queried_products)\n",
    "    processed_products = 0\n",
    "    report_products = []  # List to keep track of products to report\n",
    "    print(f'Starting to process {total_products} products')\n",
    "\n",
    "    # Iterate through the products from Firestore\n",
    "    for product_snapshot in queried_products:\n",
    "        product = product_snapshot.to_dict()\n",
    "        product_sku = product.get('sku')\n",
    "        product_status = product.get('status')\n",
    "\n",
    "        # Fetch S3 stock from subcollections\n",
    "        s3_doc = product_snapshot.reference.collection(u'suppliers').document(u'S3').get().to_dict() or {}\n",
    "        s3_stock = s3_doc.get('stock', 0)\n",
    "\n",
    "        # Check if stock in S3 is greater than 0 but status is 'No Disponible'\n",
    "        if s3_stock > 0 and product_status == 'No Disponible':\n",
    "            # Add product details to report list\n",
    "            report_products.append({\n",
    "                'product_id': product_snapshot.id,\n",
    "                'sku': product_sku,\n",
    "                'stock_s3': s3_stock,\n",
    "                'status': product_status\n",
    "            })\n",
    "\n",
    "        # Update progress indicators\n",
    "        processed_products += 1\n",
    "        print(f'Processed {processed_products} of {total_products} products')\n",
    "\n",
    "    # Display the report\n",
    "    print('\\nReport:')\n",
    "    for report_product in report_products:\n",
    "        print(f\"Product ID: {report_product['product_id']}, SKU: {report_product['sku']}, Stock in S3: {report_product['stock_s3']}, Status: {report_product['status']}\")\n",
    "\n",
    "# Call the report_products_with_stock method\n",
    "report_products_with_stock(db)"
   ]
  },
  {
   "cell_type": "code",
   "execution_count": null,
   "id": "61b4a6f6-9592-43af-bfff-679de1da12ae",
   "metadata": {
    "tags": [
     "#D",
     "=>C",
     "=>kernel"
    ]
   },
   "outputs": [],
   "source": [
    "#Consulta la bd\n",
    "docs = db.collection(u'products').where(u'brand', u'==', u'Tecnolite').select(field_paths=['sku', 'brand']).stream()\n",
    "\n",
    "for doc in docs:\n",
    "    p = doc.to_dict()\n",
    "    p['catalog_code'] = 'C1'\n",
    "    p['maker_web'] = 'https://tecnolite.mx/'\n",
    "    p['brand_favicon'] = 'https://firebasestorage.googleapis.com/v0/b/voltz-pro.appspot.com/o/public%2Fbrand_favicons%2FTecnolite.png?alt=media&token=cae931ae-7562-4a3c-8bf5-55e85f71acb9'\n",
    "    db.collection(u'products').document(doc.id).update(p)\n",
    "    print('registrado')\n",
    "\n",
    "print(skus[:3])"
   ]
  },
  {
   "cell_type": "code",
   "execution_count": null,
   "id": "ef451684-409a-45a0-9a7e-f9e01dba8fe2",
   "metadata": {
    "tags": []
   },
   "outputs": [],
   "source": [
    "#Consulta la bd\n",
    "docs = db.collection(u'products').where(u'catalog_code', u'==', u'C1').select(field_paths=['sku']).stream()\n",
    "\n",
    "for doc in docs:\n",
    "    p = doc.to_dict()\n",
    "    db.collection(u'products').document(doc.id).delete()\n",
    "    print('eliminado')\n"
   ]
  },
  {
   "cell_type": "code",
   "execution_count": null,
   "id": "32a4b6f8-2ff0-461b-9617-e4ee8b19cb60",
   "metadata": {},
   "outputs": [],
   "source": [
    "ref = db.collection_group(u'suppliers')\n",
    "docs = ref.stream()\n",
    "for doc in docs:\n",
    "    db.document(doc.reference.path).delete()\n",
    "print('finalizado')"
   ]
  },
  {
   "cell_type": "code",
   "execution_count": null,
   "id": "849b28a0-e63c-4210-b29c-3f8f836d3c2a",
   "metadata": {},
   "outputs": [],
   "source": []
  }
 ],
 "metadata": {
  "environment": {
   "kernel": "python3",
   "name": "common-cpu.m95",
   "type": "gcloud",
   "uri": "gcr.io/deeplearning-platform-release/base-cpu:m95"
  },
  "kernelspec": {
   "display_name": "Python 3",
   "language": "python",
   "name": "python3"
  },
  "language_info": {
   "codemirror_mode": {
    "name": "ipython",
    "version": 3
   },
   "file_extension": ".py",
   "mimetype": "text/x-python",
   "name": "python",
   "nbconvert_exporter": "python",
   "pygments_lexer": "ipython3",
   "version": "3.11.4"
  }
 },
 "nbformat": 4,
 "nbformat_minor": 5
}
